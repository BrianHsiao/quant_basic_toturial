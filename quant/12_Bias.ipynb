{
 "cells": [
  {
   "cell_type": "code",
   "execution_count": 1,
   "metadata": {},
   "outputs": [],
   "source": [
    "import pandas as pd\n",
    "import matplotlib.pyplot as plt\n",
    "%matplotlib inline"
   ]
  },
  {
   "cell_type": "code",
   "execution_count": 2,
   "metadata": {},
   "outputs": [
    {
     "data": {
      "text/html": [
       "<div>\n",
       "<style scoped>\n",
       "    .dataframe tbody tr th:only-of-type {\n",
       "        vertical-align: middle;\n",
       "    }\n",
       "\n",
       "    .dataframe tbody tr th {\n",
       "        vertical-align: top;\n",
       "    }\n",
       "\n",
       "    .dataframe thead th {\n",
       "        text-align: right;\n",
       "    }\n",
       "</style>\n",
       "<table border=\"1\" class=\"dataframe\">\n",
       "  <thead>\n",
       "    <tr style=\"text-align: right;\">\n",
       "      <th></th>\n",
       "      <th>Price</th>\n",
       "    </tr>\n",
       "    <tr>\n",
       "      <th>Date</th>\n",
       "      <th></th>\n",
       "    </tr>\n",
       "  </thead>\n",
       "  <tbody>\n",
       "    <tr>\n",
       "      <th>2017-03-31</th>\n",
       "      <td>19.91</td>\n",
       "    </tr>\n",
       "    <tr>\n",
       "      <th>2017-04-05</th>\n",
       "      <td>19.95</td>\n",
       "    </tr>\n",
       "    <tr>\n",
       "      <th>2017-04-06</th>\n",
       "      <td>19.93</td>\n",
       "    </tr>\n",
       "    <tr>\n",
       "      <th>2017-04-07</th>\n",
       "      <td>19.84</td>\n",
       "    </tr>\n",
       "    <tr>\n",
       "      <th>2017-04-10</th>\n",
       "      <td>19.80</td>\n",
       "    </tr>\n",
       "  </tbody>\n",
       "</table>\n",
       "</div>"
      ],
      "text/plain": [
       "            Price\n",
       "Date             \n",
       "2017-03-31  19.91\n",
       "2017-04-05  19.95\n",
       "2017-04-06  19.93\n",
       "2017-04-07  19.84\n",
       "2017-04-10  19.80"
      ]
     },
     "execution_count": 2,
     "metadata": {},
     "output_type": "execute_result"
    }
   ],
   "source": [
    "data=pd.read_csv('00690.csv')\n",
    "data.set_index(pd.to_datetime(data['Date'],format='%Y/%m/%d'),inplace=True)\n",
    "data.drop('Date',axis=1,inplace=True)\n",
    "data.head()"
   ]
  },
  {
   "cell_type": "markdown",
   "metadata": {},
   "source": [
    "# 乖離率 (BIAS)\n",
    "## $$Bias=\\frac{P-MA}{MA}$$"
   ]
  },
  {
   "cell_type": "code",
   "execution_count": 3,
   "metadata": {},
   "outputs": [
    {
     "data": {
      "text/plain": [
       "<matplotlib.axes._subplots.AxesSubplot at 0x27a182c51d0>"
      ]
     },
     "execution_count": 3,
     "metadata": {},
     "output_type": "execute_result"
    },
    {
     "data": {
      "image/png": "[encoded data removed]",
      "text/plain": [
       "<Figure size 432x288 with 1 Axes>"
      ]
     },
     "metadata": {
      "needs_background": "light"
     },
     "output_type": "display_data"
    }
   ],
   "source": [
    "df=data.copy()\n",
    "df['MA']=df['Price'].rolling(60).mean()\n",
    "df.plot()"
   ]
  },
  {
   "cell_type": "code",
   "execution_count": 4,
   "metadata": {},
   "outputs": [],
   "source": [
    "MA=60\n",
    "Threshold=-0.15\n",
    "hold_period=40"
   ]
  },
  {
   "cell_type": "code",
   "execution_count": 5,
   "metadata": {},
   "outputs": [
    {
     "name": "stderr",
     "output_type": "stream",
     "text": [
      "C:\\Users\\tinah\\Anaconda3\\lib\\site-packages\\pandas\\compat\\_optional.py:106: UserWarning: Pandas requires version '2.6.2' or newer of 'numexpr' (version '2.6.1' currently installed).\n",
      "  warnings.warn(msg, UserWarning)\n"
     ]
    }
   ],
   "source": [
    "df['Bias']=df['Price']/df['MA']-1\n",
    "df['temp']=df['Price'].pct_change(hold_period)\n",
    "df['return']=list(df['temp'].dropna())+[None]*(len(df)-len(df['temp'].dropna()))\n",
    "df.dropna(inplace=True)"
   ]
  },
  {
   "cell_type": "code",
   "execution_count": 6,
   "metadata": {},
   "outputs": [
    {
     "data": {
      "text/html": [
       "<div>\n",
       "<style scoped>\n",
       "    .dataframe tbody tr th:only-of-type {\n",
       "        vertical-align: middle;\n",
       "    }\n",
       "\n",
       "    .dataframe tbody tr th {\n",
       "        vertical-align: top;\n",
       "    }\n",
       "\n",
       "    .dataframe thead th {\n",
       "        text-align: right;\n",
       "    }\n",
       "</style>\n",
       "<table border=\"1\" class=\"dataframe\">\n",
       "  <thead>\n",
       "    <tr style=\"text-align: right;\">\n",
       "      <th></th>\n",
       "      <th>Price</th>\n",
       "      <th>MA</th>\n",
       "      <th>Bias</th>\n",
       "      <th>temp</th>\n",
       "      <th>return</th>\n",
       "    </tr>\n",
       "    <tr>\n",
       "      <th>Date</th>\n",
       "      <th></th>\n",
       "      <th></th>\n",
       "      <th></th>\n",
       "      <th></th>\n",
       "      <th></th>\n",
       "    </tr>\n",
       "  </thead>\n",
       "  <tbody>\n",
       "    <tr>\n",
       "      <th>2020-03-16</th>\n",
       "      <td>19.46</td>\n",
       "      <td>23.466500</td>\n",
       "      <td>-0.170733</td>\n",
       "      <td>-0.185433</td>\n",
       "      <td>0.106372</td>\n",
       "    </tr>\n",
       "    <tr>\n",
       "      <th>2020-03-17</th>\n",
       "      <td>18.95</td>\n",
       "      <td>23.391167</td>\n",
       "      <td>-0.189865</td>\n",
       "      <td>-0.212386</td>\n",
       "      <td>0.139314</td>\n",
       "    </tr>\n",
       "    <tr>\n",
       "      <th>2020-03-18</th>\n",
       "      <td>18.45</td>\n",
       "      <td>23.301167</td>\n",
       "      <td>-0.208194</td>\n",
       "      <td>-0.234757</td>\n",
       "      <td>0.166396</td>\n",
       "    </tr>\n",
       "    <tr>\n",
       "      <th>2020-03-19</th>\n",
       "      <td>17.41</td>\n",
       "      <td>23.189333</td>\n",
       "      <td>-0.249224</td>\n",
       "      <td>-0.283834</td>\n",
       "      <td>0.255026</td>\n",
       "    </tr>\n",
       "    <tr>\n",
       "      <th>2020-03-20</th>\n",
       "      <td>18.30</td>\n",
       "      <td>23.091833</td>\n",
       "      <td>-0.207512</td>\n",
       "      <td>-0.250000</td>\n",
       "      <td>0.196721</td>\n",
       "    </tr>\n",
       "    <tr>\n",
       "      <th>2020-03-23</th>\n",
       "      <td>17.98</td>\n",
       "      <td>22.983667</td>\n",
       "      <td>-0.217705</td>\n",
       "      <td>-0.257025</td>\n",
       "      <td>0.225250</td>\n",
       "    </tr>\n",
       "    <tr>\n",
       "      <th>2020-03-24</th>\n",
       "      <td>18.79</td>\n",
       "      <td>22.888667</td>\n",
       "      <td>-0.179070</td>\n",
       "      <td>-0.222268</td>\n",
       "      <td>0.149015</td>\n",
       "    </tr>\n",
       "  </tbody>\n",
       "</table>\n",
       "</div>"
      ],
      "text/plain": [
       "            Price         MA      Bias      temp    return\n",
       "Date                                                      \n",
       "2020-03-16  19.46  23.466500 -0.170733 -0.185433  0.106372\n",
       "2020-03-17  18.95  23.391167 -0.189865 -0.212386  0.139314\n",
       "2020-03-18  18.45  23.301167 -0.208194 -0.234757  0.166396\n",
       "2020-03-19  17.41  23.189333 -0.249224 -0.283834  0.255026\n",
       "2020-03-20  18.30  23.091833 -0.207512 -0.250000  0.196721\n",
       "2020-03-23  17.98  22.983667 -0.217705 -0.257025  0.225250\n",
       "2020-03-24  18.79  22.888667 -0.179070 -0.222268  0.149015"
      ]
     },
     "execution_count": 6,
     "metadata": {},
     "output_type": "execute_result"
    }
   ],
   "source": [
    "result=df[(df['Bias']<Threshold)]\n",
    "result"
   ]
  },
  {
   "cell_type": "code",
   "execution_count": 7,
   "metadata": {},
   "outputs": [
    {
     "name": "stdout",
     "output_type": "stream",
     "text": [
      "出現次數:  7\n",
      "平均報酬率:  17.687065198060576\n",
      "勝率:  1.0\n",
      "最大損失:  0.106372045220966\n"
     ]
    }
   ],
   "source": [
    "print('出現次數: ', len(result))\n",
    "print('平均報酬率: ',result['return'].mean()*100)\n",
    "print('勝率: ', len(result[result['return']>0])/len(result))\n",
    "print('最大損失: ',result['return'].min())"
   ]
  },
  {
   "cell_type": "code",
   "execution_count": null,
   "metadata": {},
   "outputs": [],
   "source": []
  }
 ],
 "metadata": {
  "kernelspec": {
   "display_name": "Python 3",
   "language": "python",
   "name": "python3"
  },
  "language_info": {
   "codemirror_mode": {
    "name": "ipython",
    "version": 3
   },
   "file_extension": ".py",
   "mimetype": "text/x-python",
   "name": "python",
   "nbconvert_exporter": "python",
   "pygments_lexer": "ipython3",
   "version": "3.5.6"
  }
 },
 "nbformat": 4,
 "nbformat_minor": 2
}
